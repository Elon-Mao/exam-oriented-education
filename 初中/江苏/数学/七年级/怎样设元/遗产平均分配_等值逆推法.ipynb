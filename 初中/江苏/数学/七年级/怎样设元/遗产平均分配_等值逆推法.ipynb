{
 "cells": [
  {
   "cell_type": "markdown",
   "id": "265dfaee",
   "metadata": {},
   "source": [
    "## 📘 遗产分配问题（等量继承 + 分段函数思维）"
   ]
  },
  {
   "cell_type": "markdown",
   "id": "a8e7894e",
   "metadata": {},
   "source": [
    "**题目描述：**\n",
    "\n",
    "有一位父亲，临终时嘱咐他的儿子们这样分他的财产：\n",
    "\n",
    "- 第一个儿子分得 100 克朗和剩下财产的 $\\frac{1}{10}$；\n",
    "- 第二个儿子分得 200 克朗和剩下财产的 $\\frac{1}{10}$；\n",
    "- 第三个儿子分得 300 克朗和剩下财产的 $\\frac{1}{10}$；\n",
    "- ……\n",
    "\n",
    "按照这种方式一直分下去，**最后每一个儿子所得财产都一样多**。\n",
    "\n",
    "问：\n",
    "1. 这位父亲共有几个儿子？\n",
    "2. 每个儿子分得多少财产？\n",
    "3. 父亲总共留下了多少财产？"
   ]
  },
  {
   "cell_type": "markdown",
   "id": "c133da57",
   "metadata": {},
   "source": [
    "### ✍️ 解题过程"
   ]
  },
  {
   "cell_type": "markdown",
   "id": "dfc565ce",
   "metadata": {},
   "source": [
    "设共有 $n$ 个儿子，倒数第2个儿子分得 $100(x - 1)$ 克朗后，余下 $a$ 克朗。\n",
    "\n",
    "依题意可得：\n",
    "$$ 100(x - 1) + \\frac{a}{10} = \\frac{9a}{10} = 100x $$  \n",
    "解得：$x = 9$"
   ]
  },
  {
   "cell_type": "markdown",
   "id": "1e125b54",
   "metadata": {},
   "source": [
    "### ✅ 答案"
   ]
  },
  {
   "cell_type": "markdown",
   "id": "149bc35b",
   "metadata": {},
   "source": [
    "- 儿子人数：$\\boxed{10}$  \n",
    "- 每人所得：$\\boxed{900}$ 克朗  \n",
    "- 总遗产：$\\boxed{8100}$ 克朗"
   ]
  }
 ],
 "metadata": {
  "kernelspec": {
   "display_name": "Python 3",
   "name": "python3"
  }
 },
 "nbformat": 4,
 "nbformat_minor": 5
}
