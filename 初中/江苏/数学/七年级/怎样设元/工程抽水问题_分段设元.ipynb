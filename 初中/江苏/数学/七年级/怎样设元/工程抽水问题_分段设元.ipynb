{
 "cells": [
  {
   "cell_type": "markdown",
   "id": "25c1c1ab",
   "metadata": {},
   "source": [
    "## 📘 抽水工程问题（分段工作 + 设未知数）"
   ]
  },
  {
   "cell_type": "markdown",
   "id": "0fbbd8ba",
   "metadata": {},
   "source": [
    "**题目：**\n",
    "\n",
    "有两池水，甲池的水量是乙池水量的 2 倍。\n",
    "某工程队将全部水泵（功率相同）接入甲池，工作了半天后，将水泵的一半转入乙池，\n",
    "又工作了半天，甲池的水正好抽完，而乙池尚有余水。\n",
    "最后仅留下 1 台水泵在乙池，再工作 1 天，乙池的水正好抽完。\n",
    "问：该工程队共有多少台水泵？"
   ]
  },
  {
   "cell_type": "markdown",
   "id": "60988429",
   "metadata": {},
   "source": [
    "### ✍️ 解题过程"
   ]
  },
  {
   "cell_type": "markdown",
   "id": "ec164c22",
   "metadata": {},
   "source": [
    "设总共有 $x$ 台水泵，乙池水量需要1台水泵a天抽完，则甲池水量需要1台水泵2a天抽完。\n",
    "\n",
    "抽甲池水：\n",
    "$$\\frac{1}{2}x + \\frac{1}{4}x = \\frac{3}{4}x = 2a$$\n",
    "抽乙池水：\n",
    "$$\\frac{1}{4}x + 1 = a$$\n",
    "解得$x = 8$"
   ]
  },
  {
   "cell_type": "markdown",
   "id": "5f9876e2",
   "metadata": {},
   "source": [
    "### ✅ 答案"
   ]
  },
  {
   "cell_type": "markdown",
   "id": "475bc666",
   "metadata": {},
   "source": [
    "该工程队共有水泵数量为：\n",
    "\n",
    "$$\\boxed{8}\\text{ 台}$$"
   ]
  }
 ],
 "metadata": {
  "kernelspec": {
   "display_name": "Python 3",
   "name": "python3"
  }
 },
 "nbformat": 4,
 "nbformat_minor": 5
}
