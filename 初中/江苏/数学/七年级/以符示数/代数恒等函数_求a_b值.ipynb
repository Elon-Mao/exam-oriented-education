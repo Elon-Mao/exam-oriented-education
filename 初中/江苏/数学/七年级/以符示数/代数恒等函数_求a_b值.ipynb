{
 "cells": [
  {
   "cell_type": "markdown",
   "id": "5d27829d",
   "metadata": {},
   "source": [
    "## 📘 函数恒等问题：代数式恒等于常数"
   ]
  },
  {
   "cell_type": "markdown",
   "id": "5dc59057",
   "metadata": {},
   "source": [
    "**题目描述：**\n",
    "\n",
    "已知 $a - b = 7$，且 $ax + 2 \\ne 0$，若不论 $x$ 取何值，代数式：\n",
    "$$ \\frac{bx - 5}{ax + 2} $$\n",
    "的值都相等，求 $a, b$ 的值。"
   ]
  },
  {
   "cell_type": "markdown",
   "id": "8e315285",
   "metadata": {},
   "source": [
    "### ✍️ 解题思路"
   ]
  },
  {
   "cell_type": "markdown",
   "id": "a1f70dc9",
   "metadata": {},
   "source": [
    "设代数式在所有 $x$ 下都恒为常数 $k$，即：\n",
    "$$ \\frac{bx - 5}{ax + 2} \\equiv k $$\n",
    "说明这是一个恒等式，对所有 $x$ 成立。\n",
    "\n",
    "可通过代入不同 $x$ 得到两个方程求解：\n",
    "\n",
    "令 $x = 0$：\n",
    "$$ \\frac{b(0) - 5}{a(0) + 2} = \\frac{-5}{2} = k $$\n",
    "令 $x = 1$：\n",
    "$$ \\frac{b(1) - 5}{a(1) + 2} = \\frac{b - 5}{a + 2} = k = \\frac{-5}{2} $$\n",
    "\n",
    "所以：\n",
    "$$ \\frac{b - 5}{a + 2} = \\frac{-5}{2} $$\n",
    "\n",
    "交叉相乘得：\n",
    "$$ 2(b - 5) = -5(a + 2) $$\n",
    "$$ 2b - 10 = -5a - 10 $$\n",
    "$$ 2b + 5a = 0 $$\n",
    "\n",
    "联立已知条件：\n",
    "$$ a - b = 7 $$\n",
    "\n",
    "代入得：\n",
    "将 $a = b + 7$ 代入 $2b + 5a = 0$：\n",
    "$$ 2b + 5(b + 7) = 0 $$\n",
    "$$ 2b + 5b + 35 = 0 $$\n",
    "$$ 7b + 35 = 0 \\Rightarrow b = -5 $$\n",
    "$$ a = b + 7 = -5 + 7 = 2 $$"
   ]
  },
  {
   "cell_type": "markdown",
   "id": "7819172d",
   "metadata": {},
   "source": [
    "### ✅ 最终答案"
   ]
  },
  {
   "cell_type": "markdown",
   "id": "c3726a80",
   "metadata": {},
   "source": [
    "$$ a = \\boxed{2},\\quad b = \\boxed{-5} $$"
   ]
  }
 ],
 "metadata": {
  "kernelspec": {
   "display_name": "Python 3",
   "name": "python3"
  }
 },
 "nbformat": 4,
 "nbformat_minor": 5
}
