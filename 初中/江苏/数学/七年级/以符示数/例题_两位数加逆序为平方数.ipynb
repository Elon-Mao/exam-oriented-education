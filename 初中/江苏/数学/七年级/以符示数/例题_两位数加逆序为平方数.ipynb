{
 "cells": [
  {
   "cell_type": "markdown",
   "id": "aade94f4",
   "metadata": {},
   "source": [
    "## 📘 例题：符合条件的两位数"
   ]
  },
  {
   "cell_type": "markdown",
   "id": "17fd8e56",
   "metadata": {},
   "source": [
    "**题目描述：**  \n",
    "有这样的两位数：交换该数的十位和个位后，与原数相加，得到一个完全平方数。\n",
    "\n",
    "例如：29 是这样的数，因为：\n",
    "$$29 + 92 = 121 = 11^2$$\n",
    "请你找出所有满足这种条件的两位数。"
   ]
  },
  {
   "cell_type": "markdown",
   "id": "9a433729",
   "metadata": {},
   "source": [
    "### ✍️ 解题思路"
   ]
  },
  {
   "cell_type": "markdown",
   "id": "8f2a3873",
   "metadata": {},
   "source": [
    "设原数为 $\\overline{ab}$，即 $10a + b$，交换后变成 $10b + a$。\n",
    "\n",
    "两个数的和为：\n",
    "$$ (10a + b) + (10b + a) = 11(a + b) $$\n",
    "\n",
    "所以要满足：$11(a + b)$ 是一个完全平方数。\n",
    "\n",
    "即 $a + b = 11k$，且 $11k$ 是完全平方数。又因为 $a, b \\leq 9$，所以：\n",
    "$$ 1 \\leq a + b \\leq 18 $$\n",
    "则 $k = 1$，即 $a + b = 11$\n",
    "\n",
    "枚举所有满足 $a + b = 11$ 的两位数：\n",
    "- a = 2, b = 9 → 29\n",
    "- a = 3, b = 8 → 38\n",
    "- a = 4, b = 7 → 47\n",
    "- a = 5, b = 6 → 56\n",
    "- a = 6, b = 5 → 65\n",
    "- a = 7, b = 4 → 74\n",
    "- a = 8, b = 3 → 83\n",
    "- a = 9, b = 2 → 92"
   ]
  },
  {
   "cell_type": "markdown",
   "id": "7309b006",
   "metadata": {},
   "source": [
    "### ✅ 答案"
   ]
  },
  {
   "cell_type": "markdown",
   "id": "3a654844",
   "metadata": {},
   "source": [
    "满足条件的两位数共有 8 个：\n",
    "\n",
    "**29, 38, 47, 56, 65, 74, 83, 92**"
   ]
  }
 ],
 "metadata": {
  "kernelspec": {
   "display_name": "Python 3",
   "name": "python3"
  }
 },
 "nbformat": 4,
 "nbformat_minor": 5
}
