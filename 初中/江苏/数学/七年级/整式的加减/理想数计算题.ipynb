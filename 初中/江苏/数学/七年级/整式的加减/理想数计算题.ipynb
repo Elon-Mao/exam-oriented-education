{
 "cells": [
  {
   "cell_type": "markdown",
   "id": "fc1cee1f",
   "metadata": {},
   "source": [
    "## 📘 理想数问题"
   ]
  },
  {
   "cell_type": "markdown",
   "id": "8f7a2c47",
   "metadata": {},
   "source": [
    "**题干：**\n",
    "\n",
    "记 $S_n = a_1 + a_2 + \\cdots + a_n$，定义：\n",
    "$$T_n = \\frac{S_1 + S_2 + \\cdots + S_n}{n}$$\n",
    "称 $T_n$ 为 $a_1, a_2, \\cdots, a_n$ 这列数的 **理想数**。\n",
    "\n",
    "已知 $a_1, a_2, \\cdots, a_{500}$ 的理想数为 2004，求 $8a_1, 8a_2, \\cdots, 8a_{500}$ 的理想数。"
   ]
  },
  {
   "cell_type": "markdown",
   "id": "1428139b",
   "metadata": {},
   "source": [
    "### ✍️ 解题思路"
   ]
  },
  {
   "cell_type": "markdown",
   "id": "085abc99",
   "metadata": {},
   "source": [
    "设数列 $8, a_1, a_2, \\cdots, a_n$ 的前n项和为：\n",
    "$$\n",
    "\\begin{aligned}\n",
    "S'_n &= 8 + a_1 + a_2 + \\cdots + a_{n-1}\\\\\n",
    "\\therefore S'_n &= 8 + S_{n-1}\n",
    "\\end{aligned}\n",
    "$$\n",
    "依题意得：\n",
    "$$T_{500} = \\frac{S_1 + S_2 + \\cdots + S_{500}}{500} = 2004$$\n",
    "故数列 $8, a_1, a_2, \\cdots, a_n$ 的理想数为：\n",
    "$$\n",
    "\\begin{aligned}\n",
    "T'_{501} &= \\frac{S'_1 + S'_2 + \\cdots + S'_{501}}{501}\\\\\n",
    "&= \\frac{8 + (8 + S_1) + (8 + S_2) + \\cdots + (8 + S_{500})}{501}\\\\\n",
    "&= \\frac{8 * 501 + (S_1 + S_2 + \\cdots + S_{500})}{501}\\\\\n",
    "&= \\frac{8 * 501 + 2004 * 500}{501}\\\\\n",
    "&= 2008\n",
    "\\end{aligned}\n",
    "$$"
   ]
  },
  {
   "cell_type": "markdown",
   "id": "37a35d0c",
   "metadata": {},
   "source": [
    "### ✅ 答案"
   ]
  },
  {
   "cell_type": "markdown",
   "id": "9d049ea5",
   "metadata": {},
   "source": [
    "$$\\boxed{2008}$$"
   ]
  }
 ],
 "metadata": {
  "kernelspec": {
   "display_name": "Python 3",
   "name": "python3"
  }
 },
 "nbformat": 4,
 "nbformat_minor": 5
}
