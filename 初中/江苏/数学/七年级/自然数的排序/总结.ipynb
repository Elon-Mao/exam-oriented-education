{
 "cells": [
  {
   "cell_type": "markdown",
   "id": "190d9973",
   "metadata": {},
   "source": [
    "1, 3, 6, 10  \n",
    "$a_n = \\frac{n(n + 1)}{2}$"
   ]
  },
  {
   "cell_type": "markdown",
   "id": "6435f22f",
   "metadata": {},
   "source": [
    "2, 6, 12, 20  \n",
    "$a_n = n(n + 1)$"
   ]
  }
 ],
 "metadata": {
  "language_info": {
   "name": "python"
  }
 },
 "nbformat": 4,
 "nbformat_minor": 5
}
