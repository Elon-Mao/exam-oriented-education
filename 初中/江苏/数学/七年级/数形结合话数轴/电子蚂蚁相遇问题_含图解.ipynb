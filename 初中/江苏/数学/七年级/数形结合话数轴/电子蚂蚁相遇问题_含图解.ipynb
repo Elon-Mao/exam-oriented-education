{
 "cells": [
  {
   "cell_type": "markdown",
   "id": "7b936f78",
   "metadata": {},
   "source": [
    "## 📘 例题：两只电子蚂蚁在数轴上的运动"
   ]
  },
  {
   "cell_type": "markdown",
   "id": "9c4e31d6",
   "metadata": {},
   "source": [
    "**题干整理：**  \n",
    "数轴上有 A, B, C 三点，分别代表 -24, -10, 10，\n",
    "甲从 A 出发，乙从 C 出发，同时同向运动，甲速率为 4 单位/秒。  \n",
    "1. 多少秒后甲到 A, B, C 的距离和为 40？  \n",
    "2. 若乙速率为 6 单位/秒，甲乙在哪一点相遇？  \n",
    "3. 若甲到达 A,B,C 总距离为 40 时调头，是否还能与乙相遇？"
   ]
  },
  {
   "cell_type": "code",
   "execution_count": 2,
   "id": "4a0a51dc",
   "metadata": {},
   "outputs": [
    {
     "data": {
      "image/png": "[encoded data removed]",
      "text/plain": [
       "<Figure size 1200x200 with 1 Axes>"
      ]
     },
     "metadata": {},
     "output_type": "display_data"
    }
   ],
   "source": [
    "import matplotlib.pyplot as plt\n",
    "import matplotlib.patches as patches\n",
    "\n",
    "plt.rcParams['font.sans-serif']=['SimHei']\n",
    "plt.rcParams['axes.unicode_minus']=False\n",
    "\n",
    "# 创建图像和坐标轴\n",
    "fig, ax = plt.subplots(figsize=(12, 2))\n",
    "ax.set_xlim(-30, 20)\n",
    "ax.set_ylim(-2, 3)\n",
    "ax.axis(\"off\")\n",
    "\n",
    "# 数轴和刻度\n",
    "ax.hlines(0, -28, 18, color='black')\n",
    "for x, label in [(-24, 'A'), (-10, 'B'), (10, 'C')]:\n",
    "    ax.vlines(x, 0, 0.2, color='black')\n",
    "    ax.text(x, -0.4, str(x), ha='center', fontsize=10)\n",
    "    ax.text(x, 0.3, label, ha='center', fontsize=12, fontweight='bold')\n",
    "\n",
    "# 添加甲1 和甲2\n",
    "甲1 = -18  # 在 AB 中间\n",
    "甲2 = 0    # 在 BC 中间\n",
    "ax.vlines(甲1, 0, 0.2, color='blue')\n",
    "ax.text(甲1, 0.3, \"甲1\", ha='center', fontsize=11, color='blue')\n",
    "\n",
    "ax.vlines(甲2, 0, 0.2, color='green')\n",
    "ax.text(甲2, 0.3, \"甲2\", ha='center', fontsize=11, color='green')\n",
    "\n",
    "# 甲1 → A/B/C 的弧线（蓝色）\n",
    "for x in [-24, -10, 10]:\n",
    "    width = abs(x - 甲1)\n",
    "    center = (x + 甲1) / 2\n",
    "    arc = patches.Arc((center, 0.8), width=width, height=1.0, angle=0,\n",
    "                      theta1=0, theta2=180, color='blue', lw=1.5)\n",
    "    ax.add_patch(arc)\n",
    "\n",
    "# 甲2 → A/B/C 的弧线（绿色）\n",
    "for x in [-24, -10, 10]:\n",
    "    width = abs(x - 甲2)\n",
    "    center = (x + 甲2) / 2\n",
    "    arc = patches.Arc((center, 2.0), width=width, height=1.0, angle=0,\n",
    "                      theta1=0, theta2=180, color='green', lw=1.5)\n",
    "    ax.add_patch(arc)\n",
    "\n",
    "plt.tight_layout()\n",
    "plt.show()\n"
   ]
  },
  {
   "cell_type": "markdown",
   "id": "2c55daa0",
   "metadata": {},
   "source": [
    "### ✍️ 解答过程"
   ]
  },
  {
   "cell_type": "markdown",
   "id": "c265fcf1",
   "metadata": {},
   "source": [
    "**（1）设甲运动 x 秒后到 A,B,C 的距离和为 40**  \n",
    "**分情况：**  \n",
    "① 若甲在 A~B 之间，甲到A的和到B的距离之和为: -10 - (-24) = 14  \n",
    "则距离和为：24 + (10 - (-24) - 4x) = 40，解得 x = 2  \n",
    "② 若甲在 B~C 之间，甲到B的和到C的距离之和为: -10 - 10 = 20\n",
    "则距离和为：20 + 4x = 40，解得 x = 5 \n",
    "\n",
    "**（2）**  \n",
    "设 x 秒相遇：  \n",
    "甲走了 4x，乙走了 6x，初始间距 = 10 - (-24) = 34  \n",
    "所以 (4 + 6)x = 34，解得 x = 3.4  \n",
    "\n",
    "**（3）**  \n",
    "**分情况：** \n",
    "设甲调头后再过x秒后和乙相遇  \n",
    "① 甲运动2秒后掉头，可得方程:\n",
    "-24 + 4 * 2 - 4x = 10 - 2 * 6 - 6x, 解得 x = 7  \n",
    "$\\therefore 10 - 2 * 6 - 6 * 7 = -44$  \n",
    "② 甲运动5秒后掉头，可得方程:\n",
    "-24 + 4 * 5 - 4x = 10 - 5 * 6 - 6x, 解得 x = -8  \n",
    "$\\therefore 不符合题意，舍去$  \n",
    "**即甲，乙能在-44所表示的点处相遇**。"
   ]
  }
 ],
 "metadata": {
  "kernelspec": {
   "display_name": "Python 3",
   "name": "python3"
  },
  "language_info": {
   "codemirror_mode": {
    "name": "ipython",
    "version": 3
   },
   "file_extension": ".py",
   "mimetype": "text/x-python",
   "name": "python",
   "nbconvert_exporter": "python",
   "pygments_lexer": "ipython3",
   "version": "3.8.9"
  }
 },
 "nbformat": 4,
 "nbformat_minor": 5
}
