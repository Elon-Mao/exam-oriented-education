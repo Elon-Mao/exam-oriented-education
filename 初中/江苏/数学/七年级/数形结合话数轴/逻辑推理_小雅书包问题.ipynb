{
 "cells": [
  {
   "cell_type": "markdown",
   "id": "2e44b767",
   "metadata": {},
   "source": [
    "## 🧠 例题：估书本数量的逻辑判断题"
   ]
  },
  {
   "cell_type": "markdown",
   "id": "0607eb3a",
   "metadata": {},
   "source": [
    "**题目内容：**\n",
    "\n",
    "小涵、小敏和小灵三位同学，对小雅书包里的书的本数做出不同的估计：  \n",
    "- 小涵说：“书包里至少有 10 本。”  \n",
    "- 小敏说：“不！书包里的书不到 10 本。”  \n",
    "- 小灵接着说：“书包里至少有 1 本。”  \n",
    "这时小雅说：“你们三个人的话，只有 1 个人正确。”  \n",
    "\n",
    "📌 问题：小雅书包里有几本书？"
   ]
  },
  {
   "cell_type": "code",
   "execution_count": 6,
   "id": "db5dfde6",
   "metadata": {},
   "outputs": [
    {
     "data": {
      "image/png": "[encoded data removed]",
      "text/plain": [
       "<Figure size 1000x200 with 1 Axes>"
      ]
     },
     "metadata": {},
     "output_type": "display_data"
    }
   ],
   "source": [
    "import matplotlib.pyplot as plt\n",
    "\n",
    "plt.rcParams['font.sans-serif']=['SimHei']\n",
    "plt.rcParams['axes.unicode_minus']=False\n",
    "\n",
    "# 创建图像和坐标轴\n",
    "fig, ax = plt.subplots(figsize=(10, 2))\n",
    "ax.set_xlim(-1, 16)\n",
    "ax.set_ylim(-1, 2)\n",
    "ax.axis(\"off\")  # 隐藏边框和坐标轴\n",
    "\n",
    "# 绘制数轴\n",
    "ax.hlines(0, 0, 15, color='black')  # 主线\n",
    "for i in range(16):\n",
    "    ax.vlines(i, 0, 0.15, color='black')  # 刻度线\n",
    "    ax.text(i, -0.2, str(i), ha='center', fontsize=10)  # 数字标注\n",
    "\n",
    "# 小敏的估计（0~9）弧线\n",
    "ax.annotate(\"\", xy=(9, 1), xytext=(0, 1),\n",
    "            arrowprops=dict(arrowstyle='->', lw=1.5))\n",
    "ax.text(4.5, 1.15, \"小敏的估计\", ha='center', fontsize=10)\n",
    "\n",
    "# 小涵的估计（10~15）弧线\n",
    "ax.annotate(\"\", xy=(15, 1), xytext=(10, 1),\n",
    "            arrowprops=dict(arrowstyle='->', lw=1.5))\n",
    "ax.text(12.5, 1.15, \"小涵的估计\", ha='center', fontsize=10)\n",
    "\n",
    "# 小灵的估计（1~15）下方直线段\n",
    "ax.annotate(\"\", xy=(15, -1), xytext=(1, -1),\n",
    "            arrowprops=dict(arrowstyle='->', lw=1.5))\n",
    "ax.text(8, -0.9, \"小灵的估计\", ha='center', fontsize=10)\n",
    "\n",
    "plt.tight_layout()\n",
    "plt.show()\n"
   ]
  },
  {
   "cell_type": "markdown",
   "id": "e2236a42",
   "metadata": {},
   "source": [
    "### ✍️ 逻辑分析与推理"
   ]
  },
  {
   "cell_type": "markdown",
   "id": "65ccd800",
   "metadata": {},
   "source": [
    "分析可能性：\n",
    "\n",
    "1. 若书包里有 1～9 本书：小敏、小灵都正确，> 1 人正确 ❌\n",
    "2. 若书包里有 10 本或更多：小涵、小灵正确，> 1 人正确 ❌\n",
    "3. 若书包里有 0 本书：\n",
    "   - 小涵错（0 < 10 ❌）\n",
    "   - 小敏对（0 < 10 ✅）\n",
    "   - 小灵错（0 ≥ 1 ❌）\n",
    "   ✅ 只有小敏正确，满足条件\n",
    "\n",
    "### ✅ 结论：\n",
    "小雅书包里有 **0 本书**。"
   ]
  }
 ],
 "metadata": {
  "kernelspec": {
   "display_name": "Python 3",
   "name": "python3"
  },
  "language_info": {
   "codemirror_mode": {
    "name": "ipython",
    "version": 3
   },
   "file_extension": ".py",
   "mimetype": "text/x-python",
   "name": "python",
   "nbconvert_exporter": "python",
   "pygments_lexer": "ipython3",
   "version": "3.8.9"
  }
 },
 "nbformat": 4,
 "nbformat_minor": 5
}
