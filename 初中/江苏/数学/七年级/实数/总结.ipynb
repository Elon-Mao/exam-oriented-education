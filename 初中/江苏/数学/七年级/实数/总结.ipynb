{
 "cells": [
  {
   "cell_type": "markdown",
   "id": "6c5a9313",
   "metadata": {},
   "source": [
    "设实数 $x,y,z$ 满足 $xyz\\neq 0$，且 $x+y+z=0$，则\n",
    "\n",
    "$$\n",
    "\\sqrt{\\frac{1}{x^2} + \\frac{1}{y^2} + \\frac{1}{z^2}}\n",
    "= \\left| \\frac{1}{x} + \\frac{1}{y} - \\frac{1}{z} \\right|\n",
    "\\quad \\text{或} \\quad\n",
    "\\sqrt{\\frac{1}{x^2} + \\frac{1}{y^2} + \\frac{1}{(x+y)^2}}\n",
    "= \\left| \\frac{1}{x} + \\frac{1}{y} - \\frac{1}{x+y} \\right|.\n",
    "$$\n"
   ]
  },
  {
   "cell_type": "markdown",
   "id": "1137a896",
   "metadata": {},
   "source": [
    "| 模块      | 功能         | 类比学生能力 |\n",
    "| ------- | ---------- | ------ |\n",
    "| NLP语言理解 | 理解题意，抽取条件  | 阅读理解   |\n",
    "| 数学建模    | 将文字转为数学表达式 | 列式能力   |\n",
    "| 推理与计算   | 逻辑推演、方程求解  | 解题过程   |\n",
    "| 知识调用    | 套用公式、定理    | 数学知识   |\n",
    "| 语言输出    | 讲解过程、组织语言  | 解题表达能力 |\n"
   ]
  }
 ],
 "metadata": {
  "language_info": {
   "name": "python"
  }
 },
 "nbformat": 4,
 "nbformat_minor": 5
}
