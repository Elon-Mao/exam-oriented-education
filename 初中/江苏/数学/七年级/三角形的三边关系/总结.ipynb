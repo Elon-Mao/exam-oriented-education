{
 "cells": [
  {
   "cell_type": "markdown",
   "id": "1d030c73",
   "metadata": {},
   "source": [
    "不等边三角形（scalene triangle）指的是三条边都不相等的三角形"
   ]
  }
 ],
 "metadata": {
  "language_info": {
   "name": "python"
  }
 },
 "nbformat": 4,
 "nbformat_minor": 5
}
