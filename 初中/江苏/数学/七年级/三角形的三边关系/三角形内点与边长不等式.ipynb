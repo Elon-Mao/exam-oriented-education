{
 "cells": [
  {
   "cell_type": "markdown",
   "id": "583f74a2",
   "metadata": {},
   "source": [
    "已知 $P$ 为 $\\triangle ABC$ 内任一点。  \n",
    "\n",
    "**(1)** 比较 $AB + BC + CA$ 与 $2\\bigl(PA + PB + PC\\bigr)$ 的大小，并证明你的结论。  \n",
    "\n",
    "**(2)** 比较 $AB + BC + CA$ 与 $PA + PB + PC$ 的大小，并证明你的结论。\n"
   ]
  },
  {
   "cell_type": "markdown",
   "id": "72f1bec0",
   "metadata": {},
   "source": [
    "<?xml version=\"1.0\" encoding=\"utf-8\" ?>\n",
    "<svg baseProfile=\"full\" height=\"50mm\" version=\"1.1\" viewBox=\"0 0 120 120\" width=\"50mm\" xmlns=\"http://www.w3.org/2000/svg\" xmlns:ev=\"http://www.w3.org/2001/xml-events\" xmlns:xlink=\"http://www.w3.org/1999/xlink\"><defs /><polygon fill=\"none\" points=\"60,10 10,110 110,110\" stroke=\"black\" stroke-width=\"1.5\" /><line stroke=\"black\" stroke-width=\"1\" x1=\"65\" x2=\"60\" y1=\"60\" y2=\"10\" /><line stroke=\"black\" stroke-width=\"1\" x1=\"65\" x2=\"10\" y1=\"60\" y2=\"110\" /><line stroke=\"black\" stroke-width=\"1\" x1=\"65\" x2=\"110\" y1=\"60\" y2=\"110\" /><circle cx=\"60\" cy=\"10\" fill=\"black\" r=\"1.8\" /><circle cx=\"10\" cy=\"110\" fill=\"black\" r=\"1.8\" /><circle cx=\"110\" cy=\"110\" fill=\"black\" r=\"1.8\" /><circle cx=\"65\" cy=\"60\" fill=\"black\" r=\"1.8\" /><text font-size=\"6px\" x=\"56\" y=\"6\">A</text><text font-size=\"6px\" x=\"4\" y=\"116\">B</text><text font-size=\"6px\" x=\"112\" y=\"116\">C</text><text font-size=\"6px\" x=\"67\" y=\"62\">P</text></svg>"
   ]
  },
  {
   "cell_type": "markdown",
   "id": "fc1cff91",
   "metadata": {},
   "source": [
    "**(1)**\n",
    "\n",
    "$AB < PA + PB,\\; BC < PB + PC,\\; AC < PC + PA$  \n",
    "\n",
    "相加得  \n",
    "\n",
    "$$AB + BC + CA < 2\\,(PA + PB + PC).$$  \n",
    "\n",
    "\n",
    "**(2)** \n",
    "\n",
    "如图，延长 $BP$ 与 $AC$ 相交于 $D$。  \n",
    "\n",
    "在 $\\triangle ABD$ 中，  \n",
    "\n",
    "$$AB + AD > BD = PB + PD \\quad\\text{①}$$  \n",
    "\n",
    "在 $\\triangle PDC$ 中，  \n",
    "\n",
    "$$PD + DC > PC \\quad\\text{②}$$  \n",
    "\n",
    "由 ① + ② 得  \n",
    "\n",
    "$$AB + AD + PD + DC > PB + PD + PC,$$  \n",
    "\n",
    "即  \n",
    "\n",
    "$$AB + AC > PB + PC.$$  \n",
    "\n",
    "同理可得  \n",
    "\n",
    "$$AB + BC > PA + PC,\\qquad AC + BC > PA + PB.$$  \n",
    "\n",
    "将上述三式相加得  \n",
    "\n",
    "$$2\\,(AB + AC + BC) > 2\\,(PA + PB + PC),$$  \n",
    "\n",
    "故  \n",
    "\n",
    "$$\\boxed{AB + AC + BC > PA + PB + PC.}$$\n"
   ]
  },
  {
   "cell_type": "markdown",
   "id": "e82a2891",
   "metadata": {},
   "source": [
    "<?xml version=\"1.0\" encoding=\"utf-8\" ?>\n",
    "<svg baseProfile=\"full\" height=\"50mm\" version=\"1.1\" viewBox=\"0 0 120 120\" width=\"50mm\" xmlns=\"http://www.w3.org/2000/svg\" xmlns:ev=\"http://www.w3.org/2001/xml-events\" xmlns:xlink=\"http://www.w3.org/1999/xlink\"><defs /><polygon fill=\"none\" points=\"80,10 10,110 110,110\" stroke=\"black\" stroke-width=\"1.5\" /><line stroke=\"black\" stroke-width=\"1\" x1=\"65\" x2=\"80\" y1=\"60\" y2=\"10\" /><line stroke=\"black\" stroke-width=\"1\" x1=\"65\" x2=\"110\" y1=\"60\" y2=\"110\" /><line stroke=\"black\" stroke-width=\"1\" x1=\"10\" x2=\"65\" y1=\"110\" y2=\"60\" /><line stroke=\"black\" stroke-dasharray=\"3,3\" stroke-width=\"1\" x1=\"65\" x2=\"88.57142857142857\" y1=\"60\" y2=\"38.57142857142857\" /><circle cx=\"80\" cy=\"10\" fill=\"black\" r=\"1.5\" /><circle cx=\"10\" cy=\"110\" fill=\"black\" r=\"1.5\" /><circle cx=\"110\" cy=\"110\" fill=\"black\" r=\"1.5\" /><circle cx=\"65\" cy=\"60\" fill=\"black\" r=\"1.5\" /><circle cx=\"88.57142857142857\" cy=\"38.57142857142857\" fill=\"black\" r=\"1.5\" /><text font-size=\"6px\" x=\"77\" y=\"7\">A</text><text font-size=\"6px\" x=\"4\" y=\"116\">B</text><text font-size=\"6px\" x=\"112\" y=\"116\">C</text><text font-size=\"6px\" x=\"67\" y=\"62\">P</text><text font-size=\"6px\" x=\"90.57142857142857\" y=\"36.57142857142857\">D</text></svg>"
   ]
  }
 ],
 "metadata": {
  "language_info": {
   "name": "python"
  }
 },
 "nbformat": 4,
 "nbformat_minor": 5
}
