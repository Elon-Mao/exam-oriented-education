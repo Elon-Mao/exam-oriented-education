{
 "cells": [
  {
   "cell_type": "markdown",
   "id": "0d181a01",
   "metadata": {},
   "source": [
    "已知 $x^{2}+x=1$，那么  \n",
    "\n",
    "$$\n",
    "x^{4}+2x^{3}-x^{2}-2x+2005\n",
    "= \\boxed{\\phantom{2005}}\n",
    "$$\n"
   ]
  },
  {
   "cell_type": "markdown",
   "id": "90c4252b",
   "metadata": {},
   "source": [
    "**试一试**  \n",
    "对于 (1)，从乘的乘方逆用入手；对于 (2)，就目前条件无法求出 $x$ 的值，可恰当地运用条件，把高次项用低次多项式表示，如  \n",
    "\n",
    "$$\n",
    "x^2 = 1 - x,\n",
    "$$\n",
    "\n",
    "$$\n",
    "x^3 = x \\cdot x^2 = x(1 - x) = x - x^2 = x - (1 - x) = 2x - 1,\n",
    "$$\n",
    "\n",
    "等。\n"
   ]
  }
 ],
 "metadata": {
  "language_info": {
   "name": "python"
  }
 },
 "nbformat": 4,
 "nbformat_minor": 5
}
