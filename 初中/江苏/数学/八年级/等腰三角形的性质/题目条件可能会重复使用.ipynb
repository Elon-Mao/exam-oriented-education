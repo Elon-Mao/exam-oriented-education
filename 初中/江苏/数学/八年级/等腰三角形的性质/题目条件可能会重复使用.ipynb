{
 "cells": [
  {
   "cell_type": "markdown",
   "id": "190310c8",
   "metadata": {},
   "source": [
    "<?xml version=\"1.0\" encoding=\"UTF-8\" standalone=\"no\"?>\n",
    "<svg xmlns=\"http://www.w3.org/2000/svg\" width=\"260\" height=\"163\" viewBox=\"0 0 260 163\">\n",
    "  <image width=\"260\" height=\"163\" href=\"data:image/png;base64,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\"/>\n",
    "</svg>\n"
   ]
  },
  {
   "cell_type": "markdown",
   "id": "acb8267b",
   "metadata": {},
   "source": [
    "### 题目\n",
    "\n",
    "操作：如图，$\\triangle ABC$ 是正三角形，$\\triangle BDC$ 是顶角 $\\angle BDC = 120^\\circ$ 的等腰三角形，以 $D$ 为顶点作一个 $60^\\circ$ 角，角的两边分别交 $AB, AC$ 边于 $M, N$ 两点，连接 $MN$。\n",
    "\n",
    "1. 探究：线段 $BM, MN, CN$ 之间的关系，并加以证明。  \n",
    "2. 若点 $M, N$ 分别是射线 $AB, CA$ 上的点，其他条件不变，再探索线段 $BM, MN, NC$ 之间的关系。\n",
    "\n",
    "---\n",
    "\n",
    "### 分析与证明\n",
    "\n",
    "1. 猜想：$MN = BM + CN$，将问题转化为线段和差问题的证明。\n",
    "\n",
    "如图，在 $AC$ 延长线上截取 $CM_1 = BM$，  \n",
    "\n",
    "由直角三角形 $\\triangle BDM \\cong \\triangle CDM_1$，得 $MD = M_1 D$，  \n",
    "\n",
    "$\\angle MDB = \\angle M_1 DC$，  \n",
    "\n",
    "$\\therefore \\angle MDM_1 = 120^\\circ = \\angle MDB + \\angle M_1 DC = 120^\\circ$，  \n",
    "\n",
    "又 $\\angle NDM = 60^\\circ$，$\\therefore \\angle NDM_1 = 60^\\circ$，  \n",
    "\n",
    "$\\angle M_1 D = \\angle MD$，$\\angle MDN = \\angle M_1 DN = \\angle NDM_1 = 60^\\circ$，  \n",
    "\n",
    "$DN = DN$，  \n",
    "\n",
    "$\\therefore \\triangle MDN \\cong \\triangle M_1 DN$，得 $MN = NM_1$，从而  \n",
    "\n",
    "$$MN = BM + CN$$\n"
   ]
  }
 ],
 "metadata": {
  "language_info": {
   "name": "python"
  }
 },
 "nbformat": 4,
 "nbformat_minor": 5
}
