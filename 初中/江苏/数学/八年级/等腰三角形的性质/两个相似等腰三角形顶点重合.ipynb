{
 "cells": [
  {
   "cell_type": "markdown",
   "id": "2c879b93",
   "metadata": {},
   "source": [
    "<?xml version=\"1.0\" encoding=\"UTF-8\" standalone=\"no\"?>\n",
    "<!DOCTYPE svg PUBLIC \"-//W3C//DTD SVG 1.1//EN\" \"http://www.w3.org/Graphics/SVG/1.1/DTD/svg11.dtd\">\n",
    "<svg version=\"1.1\" id=\"Layer_1\" xmlns=\"http://www.w3.org/2000/svg\" xmlns:xlink=\"http://www.w3.org/1999/xlink\" x=\"0px\" y=\"0px\" width=\"353px\" height=\"442px\" viewBox=\"0 0 353 442\" enable-background=\"new 0 0 353 442\" xml:space=\"preserve\">  <image id=\"image0\" width=\"353\" height=\"442\" x=\"0\" y=\"0\"\n",
    "    xlink:href=\"data:image/png;base64,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\" />\n",
    "</svg>\n"
   ]
  },
  {
   "cell_type": "markdown",
   "id": "84b38c94",
   "metadata": {},
   "source": [
    "## 题目\n",
    "\n",
    "等腰三角形 $\\triangle ABC \\sim \\triangle A'B'C'$，$A$ 和 $A'$ 重合，$AB=AC$，$A'B'=A'C'$，连接 $BB'$ 和 $CC'$ 相交于 $O$，求证 $\\angle BAC = \\angle BOC$。\n",
    "\n",
    "## 证明\n",
    "\n",
    "通过 SAS 可得 $\\triangle BAB' \\cong \\triangle CAC'$，故\n",
    "\n",
    "- $\\angle ABB' = \\angle ACC'$。\n",
    "\n",
    "由于 $O$ 是 $BB'$ 和 $CC'$ 的交点，在点 $B$ 处\n",
    "\n",
    "$$\n",
    "\\angle OBC + \\angle ABB' = \\angle ABC;\n",
    "$$\n",
    "\n",
    "在点 $C$ 处\n",
    "\n",
    "$$\n",
    "\\angle OCB = \\angle ABB' + \\angle ACB.\n",
    "$$\n",
    "\n",
    "于是\n",
    "\n",
    "$$\n",
    "\\angle BOC\n",
    "= 180^\\circ - \\angle OBC - \\angle OCB\n",
    "= 180^\\circ - \\angle ABC - (\\angle ABB' + \\angle ACB)\n",
    "= 180^\\circ - \\angle ABC - \\angle ACB\n",
    "= \\angle BAC.\n",
    "$$\n",
    "\n",
    "证毕。\n"
   ]
  }
 ],
 "metadata": {
  "language_info": {
   "name": "python"
  }
 },
 "nbformat": 4,
 "nbformat_minor": 5
}
