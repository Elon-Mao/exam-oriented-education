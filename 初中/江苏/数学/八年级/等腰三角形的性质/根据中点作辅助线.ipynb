{
 "cells": [
  {
   "cell_type": "markdown",
   "id": "67fe8132",
   "metadata": {},
   "source": [
    "<?xml version=\"1.0\" encoding=\"UTF-8\" standalone=\"no\"?>\n",
    "<svg xmlns=\"http://www.w3.org/2000/svg\" width=\"199\" height=\"140\" viewBox=\"0 0 199 140\">\n",
    "  <image width=\"199\" height=\"140\" href=\"data:image/png;base64,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\"/>\n",
    "</svg>\n"
   ]
  },
  {
   "cell_type": "markdown",
   "id": "80c66e37",
   "metadata": {},
   "source": [
    "### 题目\n",
    "\n",
    "如图，在 $\\triangle ABC$ 中，  \n",
    "$$\\angle ABC = 45^\\circ$$  \n",
    "$$AM \\perp BC$$  \n",
    "$M$ 为垂足，$D$ 为 $AM$ 上一点，  \n",
    "$$MD = MC$$  \n",
    "点 $E$ 是 $\\triangle ABC$ 外一点，  \n",
    "$$EC = AC$$  \n",
    "连接 $ED$ 并延长交 $BC$ 于点 $F$，且 $F$ 是线段 $BC$ 的中点，  \n",
    "求证：  \n",
    "$$\\angle BDF = \\angle CEF$$\n",
    "\n",
    "### 答案\n",
    "\n",
    "延长 $EF$ 至点 $G$，使得 $FG = EF$，连接 $BG$，可证明  \n",
    "$\\triangle BDM \\cong \\triangle ACM$，$\\triangle BFG \\cong \\triangle CFE$，  \n",
    "得 $BG = CE = AC = BD$，  \n",
    "$\\angle BDG = \\angle G = \\angle E$，即 $\\angle BDF = \\angle CEF$。\n",
    "\n"
   ]
  }
 ],
 "metadata": {
  "language_info": {
   "name": "python"
  }
 },
 "nbformat": 4,
 "nbformat_minor": 5
}
