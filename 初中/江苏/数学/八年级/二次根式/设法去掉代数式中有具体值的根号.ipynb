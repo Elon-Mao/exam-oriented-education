{
 "cells": [
  {
   "cell_type": "markdown",
   "id": "9bb8a1ab",
   "metadata": {},
   "source": [
    "设：\n",
    "\n",
    "$$\n",
    "a = \\sqrt{7} - 1\n",
    "$$\n",
    "\n",
    "则：\n",
    "\n",
    "$$\n",
    "3a^3 + 12a^2 - 6a - 12 = \\ ?\n",
    "$$\n",
    "\n",
    "解：\n",
    "\n",
    "$$\n",
    "\\text{由条件得 } a^2 + 2a = 6,\\quad\n",
    "\\text{原式} = 3a(a^2 + 2a) + 6a^2 - 6a - 12 = 24\n",
    "$$\n"
   ]
  }
 ],
 "metadata": {
  "language_info": {
   "name": "python"
  }
 },
 "nbformat": 4,
 "nbformat_minor": 5
}
