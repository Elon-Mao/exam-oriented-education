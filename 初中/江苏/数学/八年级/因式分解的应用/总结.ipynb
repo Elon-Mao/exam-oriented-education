{
 "cells": [
  {
   "cell_type": "markdown",
   "id": "6d123eee",
   "metadata": {},
   "source": [
    "$$\n",
    "(1)\\quad a^3 \\pm b^3 = (a \\pm b)(a^2 \\mp ab + b^2)\n",
    "$$\n",
    "\n",
    "$$\n",
    "(2)\\quad mn \\pm m \\pm n + 1 = (m \\pm 1)(n \\pm 1)\n",
    "$$\n",
    "\n",
    "$$\n",
    "(3)\\quad a^2 + b^2 + c^2 + 2(ab + bc + ac) = (a + b + c)^2\n",
    "$$\n"
   ]
  },
  {
   "cell_type": "markdown",
   "id": "c4e0b828",
   "metadata": {},
   "source": [
    "$$\n",
    "\\quad a^4 + 4b^4 = (a^2 + 2b^2 + 2ab)(a^2 + 2b^2 - 2ab)\n",
    "$$"
   ]
  }
 ],
 "metadata": {
  "language_info": {
   "name": "python"
  }
 },
 "nbformat": 4,
 "nbformat_minor": 5
}
