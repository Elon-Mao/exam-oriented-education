{
 "cells": [
  {
   "cell_type": "markdown",
   "id": "ce67c334",
   "metadata": {},
   "source": [
    "$$\n",
    "\\frac{\n",
    "(7^4 + 64)(15^4 + 64)(23^4 + 64)(31^4 + 64)(39^4 + 64)\n",
    "}{\n",
    "(3^4 + 64)(11^4 + 64)(19^4 + 64)(27^4 + 64)(35^4 + 64)\n",
    "}\n",
    "$$\n",
    "\n",
    "**解：**\n",
    "$$\n",
    "\\quad a^4 + 4b^4 = (a^2 + 2b^2 + 2ab)(a^2 + 2b^2 - 2ab)\\\\\n",
    "\\therefore \\quad \\text{原式} = \n",
    "\\frac{\n",
    "(3 \\times 7 + 8)(7 \\times 11 + 8)(11 \\times 15 + 8)(15 \\times 19 + 8) \\cdots (35 \\times 39 + 8)(39 \\times 43 + 8)\n",
    "}{\n",
    "(-1 \\times 3 + 8)(3 \\times 7 + 8)(7 \\times 11 + 8)(11 \\times 15 + 8) \\cdots (31 \\times 35 + 8)(35 \\times 39 + 8)\n",
    "}\n",
    "$$\n",
    "\n",
    "$$\n",
    "= \\frac{39 \\times 43 + 8}{-1 \\times 3 + 8} = 337\n",
    "$$\n"
   ]
  }
 ],
 "metadata": {
  "language_info": {
   "name": "python"
  }
 },
 "nbformat": 4,
 "nbformat_minor": 5
}
