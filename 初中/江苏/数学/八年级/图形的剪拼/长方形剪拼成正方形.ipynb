{
 "cells": [
  {
   "cell_type": "markdown",
   "id": "9bb1e2ba",
   "metadata": {},
   "source": [
    "设长方形 $ABCD$ 的长为 $a$，宽为 $b$。作线段 $AE = \\sqrt{ab}$，再作 $BF \\perp AE$，若垂足 $F$ 在线段 $AE$ 上，则可以通过平移拼成一个边长为 $\\sqrt{ab}$ 的正方形。\n",
    "\n",
    "**证明：**\n",
    "\n",
    "由余弦定义，有：\n",
    "\n",
    "$\\cos \\angle DAE = \\dfrac{AD}{AE}$，  \n",
    "\n",
    "$\\cos \\angle FAB = \\dfrac{BF}{AB}$，  \n",
    "\n",
    "由于 $\\angle DAE = \\angle FAB$，可得：\n",
    "\n",
    "$\\dfrac{AD}{AE} = \\dfrac{BF}{AB}$，  \n",
    "\n",
    "从而推出：\n",
    "\n",
    "$BF = \\dfrac{AB \\cdot AD}{AE} = \\sqrt{ab}$\n",
    "\n",
    "易证两个三角形平移后可以拼成正方形。\n",
    "\n",
    "点 $F$ 在线段 $AE$ 上需满足：\n",
    "\n",
    "$AE^2 + BF^2 \\geq AB^2$\n",
    "\n",
    "将 $AE = BF = \\sqrt{ab}$ 代入得：\n",
    "\n",
    "$ab + ab \\geq a^2 \\Rightarrow 2ab \\geq a^2$\n",
    "\n",
    "$2b \\geq a$\n",
    "\n",
    "**结论：**\n",
    "\n",
    "只要长方形满足 $a \\leq 2b$，即长不超过宽的两倍，就可以通过两条裁剪线，将其拼成一个正方形。\n",
    "\n",
    "\n",
    "<svg xmlns=\"http://www.w3.org/2000/svg\" width=\"219\" height=\"195\"><image href=\"data:image/png;base64,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\" height=\"195\" width=\"219\" /></svg>\n"
   ]
  }
 ],
 "metadata": {
  "language_info": {
   "name": "python"
  }
 },
 "nbformat": 4,
 "nbformat_minor": 5
}
