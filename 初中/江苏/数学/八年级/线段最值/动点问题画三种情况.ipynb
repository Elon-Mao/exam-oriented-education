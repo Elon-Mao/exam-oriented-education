{
 "cells": [
  {
   "cell_type": "markdown",
   "id": "66b69b63",
   "metadata": {},
   "source": [
    "### 题目\n",
    "\n",
    "如图，边长为 $6$ 的等边三角形 $ABC$ 中，$D$ 在 $BC$ 上，$E$ 为对称轴 $AD$ 上的一个动点，连接 $EC$，作等边三角形 $ECF$，  \n",
    "则在点 $E$ 运动过程中，$DF$ 的最小值为（）。\n",
    "\n",
    "### 答案\n",
    "\n",
    "由条件得 $\\triangle ACE \\cong \\triangle BCF$，$\\angle CBF = \\angle CAE = 30^\\circ$，  \n",
    "点 $F$ 在射线 $BF$ 上运动，当 $DF \\perp BF$ 时，$DF$ 值最小，最小值为 $\\dfrac{1}{2}BD = 1.5$。\n",
    "\n",
    "\n",
    "<svg xmlns=\"http://www.w3.org/2000/svg\" width=\"127\" height=\"161\" viewBox=\"0 0 127 161\">\n",
    "    <image href=\"data:image/png;base64,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\" width=\"127\" height=\"161\" />\n",
    "</svg>\n",
    "\n",
    "\n"
   ]
  }
 ],
 "metadata": {
  "language_info": {
   "name": "python"
  }
 },
 "nbformat": 4,
 "nbformat_minor": 5
}
