{
 "cells": [
  {
   "cell_type": "markdown",
   "id": "43d79b26",
   "metadata": {},
   "source": [
    "$$\n",
    "\\frac{2x + 3}{4} + \\frac{4}{2x + 3} = \\frac{4 - x}{3} + \\frac{3}{4 - x}\n",
    "$$\n",
    "\n",
    "**解：**\n",
    "$$\n",
    "\\text{设} \\quad \\frac{2x + 3}{4} = a, \\quad \\frac{4 - x}{3} = b,\n",
    "$$\n",
    "\n",
    "$$\n",
    "\\text{则} \\quad a + \\frac{1}{a} = b + \\frac{1}{b}\n",
    "$$\n",
    "\n",
    "$$\n",
    "\\Rightarrow (a - b)(ab - 1) = 0\n",
    "$$\n",
    "\n",
    "$$\n",
    "\\Rightarrow a - b = 0 \\quad \\text{或} \\quad ab - 1 = 0\n",
    "$$\n",
    "\n",
    "$$\n",
    "\\text{进一步得原方程的解为 } x_1 = 0, \\quad x_2 = \\frac{7}{10}, \\quad x_3 = \\frac{5}{2}\n",
    "$$\n"
   ]
  }
 ],
 "metadata": {
  "language_info": {
   "name": "python"
  }
 },
 "nbformat": 4,
 "nbformat_minor": 5
}
