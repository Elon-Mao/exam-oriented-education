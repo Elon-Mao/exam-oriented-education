{
 "cells": [
  {
   "cell_type": "markdown",
   "id": "4ae4fc02",
   "metadata": {},
   "source": [
    "分解因式：\n",
    "\n",
    "$$\n",
    "(2x - 3y)^3 + (3x - 2y)^3 - 125(x - y)^3 = \\underline{\\qquad}\n",
    "$$\n",
    "\n",
    "**解**  \n",
    "$$\n",
    "\\begin{aligned}\n",
    "a^3 + b^3 &= (a + b)(a^2 - ab + b^2)\\\\\n",
    "a^3 + b^3 - (a + b)^3 &= (a + b)\\left(a^2 - ab + b^2 - (a + b)^2\\right) \\\\\n",
    "&= -3(a + b)ab\\\\\n",
    "\\therefore \\text{原式} &= (2x - 3y)^3 + (3x - 2y)^3 - [5(x - y)]^3 \\\\\n",
    "&= (2x - 3y)^3 + (3x - 2y)^3 - \\left[(2x - 3y) + (3x - 2y)\\right]^3 \\\\\n",
    "&= -15(x - y)(2x - 3y)(3x - 2y)\n",
    "\\end{aligned}\n",
    "$$\n",
    "\n"
   ]
  }
 ],
 "metadata": {
  "language_info": {
   "name": "python"
  }
 },
 "nbformat": 4,
 "nbformat_minor": 5
}
