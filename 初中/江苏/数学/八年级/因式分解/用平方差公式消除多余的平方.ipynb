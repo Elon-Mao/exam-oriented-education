{
 "cells": [
  {
   "cell_type": "markdown",
   "id": "7979182e",
   "metadata": {},
   "source": [
    "分解因式：\n",
    "\n",
    "$$\n",
    "(x + 1)(x + 2)(x + 3)(x + 6) + x^2\n",
    "$$\n",
    "\n",
    "**解** \n",
    "\n",
    "$$\n",
    "\\begin{aligned}\n",
    "\\text{原式} &= (x^2 + 7x + 6)(x^2 + 5x + 6) + x^2 \\\\\n",
    "&= (x^2 + 6x + 6 + x)(x^2 + 6x + 6 - x) + x^2 \\\\\n",
    "&= (x^2 + 6x + 6)^2\n",
    "\\end{aligned}\n",
    "$$\n"
   ]
  }
 ],
 "metadata": {
  "language_info": {
   "name": "python"
  }
 },
 "nbformat": 4,
 "nbformat_minor": 5
}
