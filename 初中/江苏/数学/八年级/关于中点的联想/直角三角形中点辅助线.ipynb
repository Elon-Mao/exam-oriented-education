{
 "cells": [
  {
   "cell_type": "markdown",
   "id": "6c96280f",
   "metadata": {},
   "source": [
    "### 题目\n",
    "\n",
    "如图，在 $ \\triangle ABC $ 中，$ \\angle B = 2\\angle C $，$ AD \\perp BC $ 于点 $ D $，$ M $ 为 $ BC $ 的中点，$ AB = 10\\,\\text{cm} $，则 $ MD $ 的长度为 ______。\n",
    "\n",
    "### 答案\n",
    "\n",
    "取 $AB$ 的中点 $N$，$DN = \\dfrac{1}{2}AB$，$\\angle NDB = \\angle B$，$MN \\parallel AC$，$\\angle NMB = \\angle C$，  \n",
    "\n",
    "$\\angle NDB = \\angle B = \\angle NMD + \\angle DNM = \\angle C + \\angle DNM = 2\\angle C$，  \n",
    "\n",
    "$\\therefore \\angle DNM = \\angle C = \\angle NMD$，  \n",
    "\n",
    "得 $DM = DN = \\dfrac{1}{2}AB$。\n"
   ]
  },
  {
   "cell_type": "markdown",
   "id": "0a911f41",
   "metadata": {},
   "source": [
    "<svg xmlns=\"http://www.w3.org/2000/svg\" width=\"150\" height=\"100\"><image href=\"data:image/png;base64,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\" height=\"100\" width=\"150\" /></svg>"
   ]
  }
 ],
 "metadata": {
  "language_info": {
   "name": "python"
  }
 },
 "nbformat": 4,
 "nbformat_minor": 5
}
