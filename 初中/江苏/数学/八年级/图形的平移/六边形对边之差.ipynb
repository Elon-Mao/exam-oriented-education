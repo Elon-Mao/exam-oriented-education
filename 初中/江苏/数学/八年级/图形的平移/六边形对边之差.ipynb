{
 "cells": [
  {
   "cell_type": "markdown",
   "id": "8b2e3b2f",
   "metadata": {},
   "source": [
    "### 题目\n",
    "\n",
    "如图，六边形 $ABCDEF$ 中，$AB \\parallel DE$，$BC \\parallel EF$，$CD \\parallel AF$，  \n",
    "\n",
    "对边之差 $BC - EF = ED - AB = AF - CD > 0$。  \n",
    "\n",
    "求证：该六边形的各角相等。\n",
    "\n",
    "### 答案\n",
    "\n",
    "如答图，分别过 $A$ 点作 $AM \\parallel EF$，过 $C$ 点作 $CP \\parallel AB$，过 $E$ 点作 $EN \\parallel AF$，  \n",
    "它们分别交于 $N, M, P$ 点，得 $\\square ABCM, \\square CDEP, \\square EFAN$，  \n",
    "则 $EF = AN, AB = CM, CD = PE, BC = AM, AB = CM, CP = DE, AF = NE$，  \n",
    "由条件得 $ \\triangle NMP $ 为等边三角形，可推得六边形的各角均为 $120^\\circ$。\n",
    "\n",
    "<svg xmlns=\"http://www.w3.org/2000/svg\" width=\"150\" height=\"110\"><image href=\"data:image/png;base64,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\" height=\"110\" width=\"150\" /></svg>\n"
   ]
  }
 ],
 "metadata": {
  "language_info": {
   "name": "python"
  }
 },
 "nbformat": 4,
 "nbformat_minor": 5
}
